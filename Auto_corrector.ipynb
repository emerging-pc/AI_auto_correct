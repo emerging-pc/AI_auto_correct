{
  "nbformat": 4,
  "nbformat_minor": 0,
  "metadata": {
    "colab": {
      "provenance": [],
      "authorship_tag": "ABX9TyPMahImOJAPg5xMs0GKPqtu",
      "include_colab_link": true
    },
    "kernelspec": {
      "name": "python3",
      "display_name": "Python 3"
    },
    "language_info": {
      "name": "python"
    }
  },
  "cells": [
    {
      "cell_type": "markdown",
      "metadata": {
        "id": "view-in-github",
        "colab_type": "text"
      },
      "source": [
        "<a href=\"https://colab.research.google.com/github/emerging-pc/AI_auto_correct/blob/main/Auto_corrector.ipynb\" target=\"_parent\"><img src=\"https://colab.research.google.com/assets/colab-badge.svg\" alt=\"Open In Colab\"/></a>"
      ]
    },
    {
      "cell_type": "code",
      "execution_count": null,
      "metadata": {
        "colab": {
          "base_uri": "https://localhost:8080/"
        },
        "id": "cBT74MgpPBQC",
        "outputId": "7b70d78d-928f-4901-f5c3-733c6450182f"
      },
      "outputs": [
        {
          "output_type": "stream",
          "name": "stderr",
          "text": [
            "[nltk_data] Downloading package words to /root/nltk_data...\n",
            "[nltk_data]   Package words is already up-to-date!\n"
          ]
        },
        {
          "output_type": "stream",
          "name": "stdout",
          "text": [
            "cimputer\n",
            "Input word: cimputer\n",
            "Corrected word: computer\n"
          ]
        }
      ],
      "source": [
        "import nltk\n",
        "from nltk.corpus import words\n",
        "from nltk.metrics.distance import edit_distance\n",
        "\n",
        "nltk.download(\"words\")\n",
        "\n",
        "# List of words in the NLTK words corpus\n",
        "dictionary = words.words()\n",
        "\n",
        "def correct_word(input_word):\n",
        "    closest_word = min(dictionary, key=lambda word: edit_distance(input_word, word))\n",
        "    return closest_word\n",
        "\n",
        "# Test the spell-checking AI\n",
        "input_word = input()\n",
        "corrected_word = correct_word(input_word)\n",
        "\n",
        "print(f\"Input word: {input_word}\")\n",
        "print(f\"Corrected word: {corrected_word}\")\n"
      ]
    },
    {
      "cell_type": "code",
      "source": [],
      "metadata": {
        "id": "1ZxAggqNPmAu"
      },
      "execution_count": null,
      "outputs": []
    }
  ]
}